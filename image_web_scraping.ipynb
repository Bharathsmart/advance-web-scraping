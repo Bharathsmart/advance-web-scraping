{
 "cells": [
  {
   "cell_type": "code",
   "id": "initial_id",
   "metadata": {
    "collapsed": true,
    "ExecuteTime": {
     "end_time": "2025-06-13T15:55:35.003167Z",
     "start_time": "2025-06-13T15:55:34.999390Z"
    }
   },
   "source": [
    "import os\n",
    "import requests\n",
    "from bs4 import BeautifulSoup\n"
   ],
   "outputs": [],
   "execution_count": 5
  },
  {
   "metadata": {},
   "cell_type": "code",
   "outputs": [],
   "execution_count": null,
   "source": [
    "\n",
    "# === Step 1: Load the HTML file ===\n",
    "with open('smartprix.html', 'r', encoding='utf-8') as f:\n",
    "    html = f.read()\n",
    "\n",
    "# === Step 2: Parse HTML ===\n",
    "soup = BeautifulSoup(html, 'html.parser')\n",
    "\n",
    "# === Step 3: Find all containers (adjust this tag/class as needed) ===\n",
    "containers = soup.find_all('div', class_='sm-img-wrap')\n",
    "\n",
    "# === Step 4: Prepare directory ===\n",
    "os.makedirs('sm_images', exist_ok=True)\n",
    "\n"
   ],
   "id": "958ba657b01a2738"
  },
  {
   "metadata": {},
   "cell_type": "code",
   "outputs": [],
   "execution_count": null,
   "source": [
    "# === Step 5: Loop through containers and extract images ===\n",
    "# === In this case, images of the same smartphone model but with different RAM and storage variants are all being saved to the folder, resulting in duplicate images of the same device. ===\n",
    "for i, container in enumerate(containers):\n",
    "    try:\n",
    "        img_tag = container.find('img', class_='sm-img')\n",
    "        if not img_tag:\n",
    "            continue\n",
    "\n",
    "        img_url = img_tag.get('src')\n",
    "        if img_url.startswith('//'):\n",
    "            img_url = 'https:' + img_url\n",
    "\n",
    "        alt_text = img_tag.get('alt', f'image_{i+1}')\n",
    "        alt_clean = alt_text.replace(' ', '_').replace('/', '-')  # for safe filename\n",
    "\n",
    "        # Download image\n",
    "        img_data = requests.get(img_url, timeout=10).content\n",
    "        with open(f'sm_images/{alt_clean}_{i+1}.webp', 'wb') as f:\n",
    "            f.write(img_data)\n",
    "\n",
    "        print(f\"✅ Saved: {alt_clean}_{i+1}.webp\")\n",
    "\n",
    "    except Exception as e:\n",
    "        print(f\"❌ Error for container {i+1}: {e}\")"
   ],
   "id": "953c78078bba64f6"
  },
  {
   "metadata": {},
   "cell_type": "code",
   "outputs": [],
   "execution_count": null,
   "source": [
    "# === Step 6: Track already-saved base models ===\n",
    "# === In this case,duplicate images of the same device are removes stored in saved models. ===\n",
    "saved_models = set()\n",
    "\n",
    "# === Step 7: Loop and download unique images ===\n",
    "for i, container in enumerate(containers):\n",
    "    try:\n",
    "        img_tag = container.find('img', class_='sm-img')\n",
    "        if not img_tag:\n",
    "            continue\n",
    "\n",
    "        img_url = img_tag.get('src')\n",
    "        if img_url.startswith('//'):\n",
    "            img_url = 'https:' + img_url\n",
    "\n",
    "        alt_text = img_tag.get('alt', f'image_{i+1}')\n",
    "        base_model = alt_text.split('(')[0].strip()  # Get model before '('\n",
    "\n",
    "        # Check if model already saved\n",
    "        if base_model in saved_models:\n",
    "            print(f\"🔁 Skipped duplicate model: {base_model}\")\n",
    "            continue\n",
    "\n",
    "        saved_models.add(base_model)  # Mark model as saved\n",
    "\n",
    "        safe_name = re.sub(r'[^\\w\\-_()]', '_', base_model)\n",
    "        file_name = f'{safe_name}_{i+1}.webp'\n",
    "\n",
    "        # Download and save\n",
    "        img_data = requests.get(img_url, timeout=10).content\n",
    "        with open(os.path.join('sm_images', file_name), 'wb') as f:\n",
    "            f.write(img_data)\n",
    "\n",
    "        print(f\"✅ Saved: {file_name}\")\n",
    "\n",
    "    except Exception as e:\n",
    "        print(f\"❌ Error at image {i+1}: {e}\")"
   ],
   "id": "f12c8d9a7e48f87"
  },
  {
   "metadata": {},
   "cell_type": "code",
   "outputs": [],
   "execution_count": null,
   "source": "",
   "id": "1563354aa8357dbc"
  }
 ],
 "metadata": {
  "kernelspec": {
   "display_name": "Python 3",
   "language": "python",
   "name": "python3"
  },
  "language_info": {
   "codemirror_mode": {
    "name": "ipython",
    "version": 2
   },
   "file_extension": ".py",
   "mimetype": "text/x-python",
   "name": "python",
   "nbconvert_exporter": "python",
   "pygments_lexer": "ipython2",
   "version": "2.7.6"
  }
 },
 "nbformat": 4,
 "nbformat_minor": 5
}
